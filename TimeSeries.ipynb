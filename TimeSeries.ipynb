{
  "nbformat": 4,
  "nbformat_minor": 0,
  "metadata": {
    "colab": {
      "name": "TimeSeries.ipynb",
      "provenance": [],
      "collapsed_sections": [],
      "mount_file_id": "1WvQc5rbbDeybPLpSIrrWSTbTGx-4n3oY",
      "authorship_tag": "ABX9TyPh8EymDSINruiFSDL5Si3J",
      "include_colab_link": true
    },
    "kernelspec": {
      "name": "python3",
      "display_name": "Python 3"
    }
  },
  "cells": [
    {
      "cell_type": "markdown",
      "metadata": {
        "id": "view-in-github",
        "colab_type": "text"
      },
      "source": [
        "<a href=\"https://colab.research.google.com/github/bmd94/TimeSeries/blob/main/TimeSeries.ipynb\" target=\"_parent\"><img src=\"https://colab.research.google.com/assets/colab-badge.svg\" alt=\"Open In Colab\"/></a>"
      ]
    },
    {
      "cell_type": "code",
      "metadata": {
        "id": "NDHsaNwrpt2X"
      },
      "source": [
        "import pandas as pd\r\n",
        "import numpy as np"
      ],
      "execution_count": null,
      "outputs": []
    },
    {
      "cell_type": "code",
      "metadata": {
        "id": "TL8JmU2BqO6e"
      },
      "source": [
        "train = pd.read_csv('/content/drive/MyDrive/Kaggle/cell/train.csv')\r\n",
        "test = pd.read_csv('/content/drive/MyDrive/Kaggle/cell/test.csv')"
      ],
      "execution_count": null,
      "outputs": []
    },
    {
      "cell_type": "code",
      "metadata": {
        "colab": {
          "base_uri": "https://localhost:8080/",
          "height": 195
        },
        "id": "Hg26OqObqiM2",
        "outputId": "7c400796-03c1-4e87-b31f-8c441e9786a3"
      },
      "source": [
        "train.head()"
      ],
      "execution_count": null,
      "outputs": [
        {
          "output_type": "execute_result",
          "data": {
            "text/html": [
              "<div>\n",
              "<style scoped>\n",
              "    .dataframe tbody tr th:only-of-type {\n",
              "        vertical-align: middle;\n",
              "    }\n",
              "\n",
              "    .dataframe tbody tr th {\n",
              "        vertical-align: top;\n",
              "    }\n",
              "\n",
              "    .dataframe thead th {\n",
              "        text-align: right;\n",
              "    }\n",
              "</style>\n",
              "<table border=\"1\" class=\"dataframe\">\n",
              "  <thead>\n",
              "    <tr style=\"text-align: right;\">\n",
              "      <th></th>\n",
              "      <th>date</th>\n",
              "      <th>store</th>\n",
              "      <th>item</th>\n",
              "      <th>sales</th>\n",
              "    </tr>\n",
              "  </thead>\n",
              "  <tbody>\n",
              "    <tr>\n",
              "      <th>0</th>\n",
              "      <td>2013-01-01</td>\n",
              "      <td>1</td>\n",
              "      <td>1</td>\n",
              "      <td>13</td>\n",
              "    </tr>\n",
              "    <tr>\n",
              "      <th>1</th>\n",
              "      <td>2013-01-02</td>\n",
              "      <td>1</td>\n",
              "      <td>1</td>\n",
              "      <td>11</td>\n",
              "    </tr>\n",
              "    <tr>\n",
              "      <th>2</th>\n",
              "      <td>2013-01-03</td>\n",
              "      <td>1</td>\n",
              "      <td>1</td>\n",
              "      <td>14</td>\n",
              "    </tr>\n",
              "    <tr>\n",
              "      <th>3</th>\n",
              "      <td>2013-01-04</td>\n",
              "      <td>1</td>\n",
              "      <td>1</td>\n",
              "      <td>13</td>\n",
              "    </tr>\n",
              "    <tr>\n",
              "      <th>4</th>\n",
              "      <td>2013-01-05</td>\n",
              "      <td>1</td>\n",
              "      <td>1</td>\n",
              "      <td>10</td>\n",
              "    </tr>\n",
              "  </tbody>\n",
              "</table>\n",
              "</div>"
            ],
            "text/plain": [
              "         date  store  item  sales\n",
              "0  2013-01-01      1     1     13\n",
              "1  2013-01-02      1     1     11\n",
              "2  2013-01-03      1     1     14\n",
              "3  2013-01-04      1     1     13\n",
              "4  2013-01-05      1     1     10"
            ]
          },
          "metadata": {
            "tags": []
          },
          "execution_count": 3
        }
      ]
    },
    {
      "cell_type": "code",
      "metadata": {
        "colab": {
          "base_uri": "https://localhost:8080/",
          "height": 195
        },
        "id": "Bwk2geYJqrif",
        "outputId": "63846b4f-9ec7-4d4b-bf52-ef688151167e"
      },
      "source": [
        "test.head()"
      ],
      "execution_count": null,
      "outputs": [
        {
          "output_type": "execute_result",
          "data": {
            "text/html": [
              "<div>\n",
              "<style scoped>\n",
              "    .dataframe tbody tr th:only-of-type {\n",
              "        vertical-align: middle;\n",
              "    }\n",
              "\n",
              "    .dataframe tbody tr th {\n",
              "        vertical-align: top;\n",
              "    }\n",
              "\n",
              "    .dataframe thead th {\n",
              "        text-align: right;\n",
              "    }\n",
              "</style>\n",
              "<table border=\"1\" class=\"dataframe\">\n",
              "  <thead>\n",
              "    <tr style=\"text-align: right;\">\n",
              "      <th></th>\n",
              "      <th>id</th>\n",
              "      <th>date</th>\n",
              "      <th>store</th>\n",
              "      <th>item</th>\n",
              "    </tr>\n",
              "  </thead>\n",
              "  <tbody>\n",
              "    <tr>\n",
              "      <th>0</th>\n",
              "      <td>0</td>\n",
              "      <td>2018-01-01</td>\n",
              "      <td>1</td>\n",
              "      <td>1</td>\n",
              "    </tr>\n",
              "    <tr>\n",
              "      <th>1</th>\n",
              "      <td>1</td>\n",
              "      <td>2018-01-02</td>\n",
              "      <td>1</td>\n",
              "      <td>1</td>\n",
              "    </tr>\n",
              "    <tr>\n",
              "      <th>2</th>\n",
              "      <td>2</td>\n",
              "      <td>2018-01-03</td>\n",
              "      <td>1</td>\n",
              "      <td>1</td>\n",
              "    </tr>\n",
              "    <tr>\n",
              "      <th>3</th>\n",
              "      <td>3</td>\n",
              "      <td>2018-01-04</td>\n",
              "      <td>1</td>\n",
              "      <td>1</td>\n",
              "    </tr>\n",
              "    <tr>\n",
              "      <th>4</th>\n",
              "      <td>4</td>\n",
              "      <td>2018-01-05</td>\n",
              "      <td>1</td>\n",
              "      <td>1</td>\n",
              "    </tr>\n",
              "  </tbody>\n",
              "</table>\n",
              "</div>"
            ],
            "text/plain": [
              "   id        date  store  item\n",
              "0   0  2018-01-01      1     1\n",
              "1   1  2018-01-02      1     1\n",
              "2   2  2018-01-03      1     1\n",
              "3   3  2018-01-04      1     1\n",
              "4   4  2018-01-05      1     1"
            ]
          },
          "metadata": {
            "tags": []
          },
          "execution_count": 4
        }
      ]
    },
    {
      "cell_type": "code",
      "metadata": {
        "colab": {
          "base_uri": "https://localhost:8080/"
        },
        "id": "zxLXrp6RrKbB",
        "outputId": "c8d285c2-db98-4f3f-a4dd-4ff5b3538d5f"
      },
      "source": [
        "print(train.shape,test.shape)"
      ],
      "execution_count": null,
      "outputs": [
        {
          "output_type": "stream",
          "text": [
            "(913000, 4) (45000, 4)\n"
          ],
          "name": "stdout"
        }
      ]
    },
    {
      "cell_type": "code",
      "metadata": {
        "colab": {
          "base_uri": "https://localhost:8080/"
        },
        "id": "DIVo5_SSqu4l",
        "outputId": "64b844ad-3478-482a-b873-5eb7dc1ff280"
      },
      "source": [
        "train.info()"
      ],
      "execution_count": null,
      "outputs": [
        {
          "output_type": "stream",
          "text": [
            "<class 'pandas.core.frame.DataFrame'>\n",
            "RangeIndex: 913000 entries, 0 to 912999\n",
            "Data columns (total 4 columns):\n",
            " #   Column  Non-Null Count   Dtype \n",
            "---  ------  --------------   ----- \n",
            " 0   date    913000 non-null  object\n",
            " 1   store   913000 non-null  int64 \n",
            " 2   item    913000 non-null  int64 \n",
            " 3   sales   913000 non-null  int64 \n",
            "dtypes: int64(3), object(1)\n",
            "memory usage: 27.9+ MB\n"
          ],
          "name": "stdout"
        }
      ]
    },
    {
      "cell_type": "code",
      "metadata": {
        "colab": {
          "base_uri": "https://localhost:8080/"
        },
        "id": "GJ02enfMq3T8",
        "outputId": "6c862bea-f283-4f00-e53b-22cd250f52ef"
      },
      "source": [
        "test.info()"
      ],
      "execution_count": null,
      "outputs": [
        {
          "output_type": "stream",
          "text": [
            "<class 'pandas.core.frame.DataFrame'>\n",
            "RangeIndex: 45000 entries, 0 to 44999\n",
            "Data columns (total 4 columns):\n",
            " #   Column  Non-Null Count  Dtype \n",
            "---  ------  --------------  ----- \n",
            " 0   id      45000 non-null  int64 \n",
            " 1   date    45000 non-null  object\n",
            " 2   store   45000 non-null  int64 \n",
            " 3   item    45000 non-null  int64 \n",
            "dtypes: int64(3), object(1)\n",
            "memory usage: 1.4+ MB\n"
          ],
          "name": "stdout"
        }
      ]
    },
    {
      "cell_type": "code",
      "metadata": {
        "colab": {
          "base_uri": "https://localhost:8080/"
        },
        "id": "YUQuYLw6rIDx",
        "outputId": "10c4d8b8-d6c2-4eb2-aad1-73900fa62653"
      },
      "source": [
        "train.isna().any().sum()"
      ],
      "execution_count": null,
      "outputs": [
        {
          "output_type": "execute_result",
          "data": {
            "text/plain": [
              "0"
            ]
          },
          "metadata": {
            "tags": []
          },
          "execution_count": 8
        }
      ]
    },
    {
      "cell_type": "code",
      "metadata": {
        "colab": {
          "base_uri": "https://localhost:8080/"
        },
        "id": "40r4l-YarXd1",
        "outputId": "1efa22d0-765b-4c9b-adb6-56570ecc7cb2"
      },
      "source": [
        "test.isna().any().sum()"
      ],
      "execution_count": null,
      "outputs": [
        {
          "output_type": "execute_result",
          "data": {
            "text/plain": [
              "0"
            ]
          },
          "metadata": {
            "tags": []
          },
          "execution_count": 9
        }
      ]
    },
    {
      "cell_type": "code",
      "metadata": {
        "colab": {
          "base_uri": "https://localhost:8080/"
        },
        "id": "nhUfn5ePrcpR",
        "outputId": "00c3e4f8-4b83-46ec-fd44-02fcbe71d2cf"
      },
      "source": [
        "train.dtypes"
      ],
      "execution_count": null,
      "outputs": [
        {
          "output_type": "execute_result",
          "data": {
            "text/plain": [
              "date     object\n",
              "store     int64\n",
              "item      int64\n",
              "sales     int64\n",
              "dtype: object"
            ]
          },
          "metadata": {
            "tags": []
          },
          "execution_count": 10
        }
      ]
    },
    {
      "cell_type": "code",
      "metadata": {
        "id": "bdSpSt9PrjRM"
      },
      "source": [
        "train['date']= pd.to_datetime(train['date'])\r\n",
        "test['date']= pd.to_datetime(test['date'])"
      ],
      "execution_count": null,
      "outputs": []
    },
    {
      "cell_type": "code",
      "metadata": {
        "colab": {
          "base_uri": "https://localhost:8080/"
        },
        "id": "I3c_RrWAsELJ",
        "outputId": "d95d9b97-7672-4102-9835-76e51a735829"
      },
      "source": [
        "train.dtypes"
      ],
      "execution_count": null,
      "outputs": [
        {
          "output_type": "execute_result",
          "data": {
            "text/plain": [
              "date     datetime64[ns]\n",
              "store             int64\n",
              "item              int64\n",
              "sales             int64\n",
              "dtype: object"
            ]
          },
          "metadata": {
            "tags": []
          },
          "execution_count": 12
        }
      ]
    },
    {
      "cell_type": "code",
      "metadata": {
        "colab": {
          "base_uri": "https://localhost:8080/"
        },
        "id": "-LO_9y7gsen_",
        "outputId": "f1fa69ae-66d1-4250-a860-f0fc2666a98c"
      },
      "source": [
        "type(train['date'][0])"
      ],
      "execution_count": null,
      "outputs": [
        {
          "output_type": "execute_result",
          "data": {
            "text/plain": [
              "pandas._libs.tslibs.timestamps.Timestamp"
            ]
          },
          "metadata": {
            "tags": []
          },
          "execution_count": 13
        }
      ]
    },
    {
      "cell_type": "code",
      "metadata": {
        "colab": {
          "base_uri": "https://localhost:8080/"
        },
        "id": "ALB7hvKTsI2V",
        "outputId": "300aa1c2-fa46-45c1-e40f-5a119dab189a"
      },
      "source": [
        "test.dtypes"
      ],
      "execution_count": null,
      "outputs": [
        {
          "output_type": "execute_result",
          "data": {
            "text/plain": [
              "id                int64\n",
              "date     datetime64[ns]\n",
              "store             int64\n",
              "item              int64\n",
              "dtype: object"
            ]
          },
          "metadata": {
            "tags": []
          },
          "execution_count": 14
        }
      ]
    },
    {
      "cell_type": "code",
      "metadata": {
        "colab": {
          "base_uri": "https://localhost:8080/",
          "height": 195
        },
        "id": "kdzimabXsT4T",
        "outputId": "10f60ba0-9560-414a-879a-260ca63131a5"
      },
      "source": [
        "train.head()"
      ],
      "execution_count": null,
      "outputs": [
        {
          "output_type": "execute_result",
          "data": {
            "text/html": [
              "<div>\n",
              "<style scoped>\n",
              "    .dataframe tbody tr th:only-of-type {\n",
              "        vertical-align: middle;\n",
              "    }\n",
              "\n",
              "    .dataframe tbody tr th {\n",
              "        vertical-align: top;\n",
              "    }\n",
              "\n",
              "    .dataframe thead th {\n",
              "        text-align: right;\n",
              "    }\n",
              "</style>\n",
              "<table border=\"1\" class=\"dataframe\">\n",
              "  <thead>\n",
              "    <tr style=\"text-align: right;\">\n",
              "      <th></th>\n",
              "      <th>date</th>\n",
              "      <th>store</th>\n",
              "      <th>item</th>\n",
              "      <th>sales</th>\n",
              "    </tr>\n",
              "  </thead>\n",
              "  <tbody>\n",
              "    <tr>\n",
              "      <th>0</th>\n",
              "      <td>2013-01-01</td>\n",
              "      <td>1</td>\n",
              "      <td>1</td>\n",
              "      <td>13</td>\n",
              "    </tr>\n",
              "    <tr>\n",
              "      <th>1</th>\n",
              "      <td>2013-01-02</td>\n",
              "      <td>1</td>\n",
              "      <td>1</td>\n",
              "      <td>11</td>\n",
              "    </tr>\n",
              "    <tr>\n",
              "      <th>2</th>\n",
              "      <td>2013-01-03</td>\n",
              "      <td>1</td>\n",
              "      <td>1</td>\n",
              "      <td>14</td>\n",
              "    </tr>\n",
              "    <tr>\n",
              "      <th>3</th>\n",
              "      <td>2013-01-04</td>\n",
              "      <td>1</td>\n",
              "      <td>1</td>\n",
              "      <td>13</td>\n",
              "    </tr>\n",
              "    <tr>\n",
              "      <th>4</th>\n",
              "      <td>2013-01-05</td>\n",
              "      <td>1</td>\n",
              "      <td>1</td>\n",
              "      <td>10</td>\n",
              "    </tr>\n",
              "  </tbody>\n",
              "</table>\n",
              "</div>"
            ],
            "text/plain": [
              "        date  store  item  sales\n",
              "0 2013-01-01      1     1     13\n",
              "1 2013-01-02      1     1     11\n",
              "2 2013-01-03      1     1     14\n",
              "3 2013-01-04      1     1     13\n",
              "4 2013-01-05      1     1     10"
            ]
          },
          "metadata": {
            "tags": []
          },
          "execution_count": 15
        }
      ]
    },
    {
      "cell_type": "code",
      "metadata": {
        "id": "H2iArhbMlBqw"
      },
      "source": [
        "X = train"
      ],
      "execution_count": null,
      "outputs": []
    },
    {
      "cell_type": "code",
      "metadata": {
        "colab": {
          "base_uri": "https://localhost:8080/"
        },
        "id": "0leZymsBsW8h",
        "outputId": "4fa3de49-146f-493b-9f62-25e275a596db"
      },
      "source": [
        "train['day_n']= train['date'].dt.day_name()\r\n",
        "train['day_n'].head()"
      ],
      "execution_count": null,
      "outputs": [
        {
          "output_type": "execute_result",
          "data": {
            "text/plain": [
              "0      Tuesday\n",
              "1    Wednesday\n",
              "2     Thursday\n",
              "3       Friday\n",
              "4     Saturday\n",
              "Name: day_n, dtype: object"
            ]
          },
          "metadata": {
            "tags": []
          },
          "execution_count": 17
        }
      ]
    },
    {
      "cell_type": "code",
      "metadata": {
        "colab": {
          "base_uri": "https://localhost:8080/"
        },
        "id": "5hXFSkyCtZ5w",
        "outputId": "c62215cb-b10d-4220-dcc9-927cd1c230f2"
      },
      "source": [
        "train['day_n'].value_counts()"
      ],
      "execution_count": null,
      "outputs": [
        {
          "output_type": "execute_result",
          "data": {
            "text/plain": [
              "Sunday       130500\n",
              "Wednesday    130500\n",
              "Saturday     130500\n",
              "Friday       130500\n",
              "Tuesday      130500\n",
              "Thursday     130500\n",
              "Monday       130000\n",
              "Name: day_n, dtype: int64"
            ]
          },
          "metadata": {
            "tags": []
          },
          "execution_count": 18
        }
      ]
    },
    {
      "cell_type": "code",
      "metadata": {
        "colab": {
          "base_uri": "https://localhost:8080/"
        },
        "id": "F7YVjElktJiF",
        "outputId": "490a1787-3e82-45c3-ffa5-212122c5444f"
      },
      "source": [
        "train['month_n']= train['date'].dt.month_name()\r\n",
        "train['month_n'].head()                      # 2018-08-01 --->  August  "
      ],
      "execution_count": null,
      "outputs": [
        {
          "output_type": "execute_result",
          "data": {
            "text/plain": [
              "0    January\n",
              "1    January\n",
              "2    January\n",
              "3    January\n",
              "4    January\n",
              "Name: month_n, dtype: object"
            ]
          },
          "metadata": {
            "tags": []
          },
          "execution_count": 19
        }
      ]
    },
    {
      "cell_type": "code",
      "metadata": {
        "colab": {
          "base_uri": "https://localhost:8080/"
        },
        "id": "K_Gv1iXPtU2E",
        "outputId": "a0a4eee9-5e61-4791-cfac-a793ec044c91"
      },
      "source": [
        "train['month_n'].value_counts()"
      ],
      "execution_count": null,
      "outputs": [
        {
          "output_type": "execute_result",
          "data": {
            "text/plain": [
              "May          77500\n",
              "August       77500\n",
              "October      77500\n",
              "January      77500\n",
              "July         77500\n",
              "March        77500\n",
              "December     77500\n",
              "September    75000\n",
              "April        75000\n",
              "June         75000\n",
              "November     75000\n",
              "February     70500\n",
              "Name: month_n, dtype: int64"
            ]
          },
          "metadata": {
            "tags": []
          },
          "execution_count": 20
        }
      ]
    },
    {
      "cell_type": "code",
      "metadata": {
        "colab": {
          "base_uri": "https://localhost:8080/"
        },
        "id": "VK-oqhwvqyKx",
        "outputId": "b65ff795-b1f6-4d4b-dee8-05c1a329dc2c"
      },
      "source": [
        "train['year_n']= train['date'].dt.year\r\n",
        "train['year_n']"
      ],
      "execution_count": null,
      "outputs": [
        {
          "output_type": "execute_result",
          "data": {
            "text/plain": [
              "0         2013\n",
              "1         2013\n",
              "2         2013\n",
              "3         2013\n",
              "4         2013\n",
              "          ... \n",
              "912995    2017\n",
              "912996    2017\n",
              "912997    2017\n",
              "912998    2017\n",
              "912999    2017\n",
              "Name: year_n, Length: 913000, dtype: int64"
            ]
          },
          "metadata": {
            "tags": []
          },
          "execution_count": 21
        }
      ]
    },
    {
      "cell_type": "code",
      "metadata": {
        "colab": {
          "base_uri": "https://localhost:8080/"
        },
        "id": "uvs5iEkwtheI",
        "outputId": "271ded60-f42f-4f4f-ba2e-8db1bd151c87"
      },
      "source": [
        "train.columns"
      ],
      "execution_count": null,
      "outputs": [
        {
          "output_type": "execute_result",
          "data": {
            "text/plain": [
              "Index(['date', 'store', 'item', 'sales', 'day_n', 'month_n', 'year_n'], dtype='object')"
            ]
          },
          "metadata": {
            "tags": []
          },
          "execution_count": 22
        }
      ]
    },
    {
      "cell_type": "code",
      "metadata": {
        "colab": {
          "base_uri": "https://localhost:8080/"
        },
        "id": "J0kLX1Qltx8g",
        "outputId": "4ec8bd9f-0ad4-4862-a7a3-f4ed76c832bc"
      },
      "source": [
        "train.nunique()"
      ],
      "execution_count": null,
      "outputs": [
        {
          "output_type": "execute_result",
          "data": {
            "text/plain": [
              "date       1826\n",
              "store        10\n",
              "item         50\n",
              "sales       213\n",
              "day_n         7\n",
              "month_n      12\n",
              "year_n        5\n",
              "dtype: int64"
            ]
          },
          "metadata": {
            "tags": []
          },
          "execution_count": 23
        }
      ]
    },
    {
      "cell_type": "code",
      "metadata": {
        "colab": {
          "base_uri": "https://localhost:8080/",
          "height": 284
        },
        "id": "m57srXB8tvEq",
        "outputId": "238e8f5f-3b1f-46b3-deca-7584254429d3"
      },
      "source": [
        "train.describe()"
      ],
      "execution_count": null,
      "outputs": [
        {
          "output_type": "execute_result",
          "data": {
            "text/html": [
              "<div>\n",
              "<style scoped>\n",
              "    .dataframe tbody tr th:only-of-type {\n",
              "        vertical-align: middle;\n",
              "    }\n",
              "\n",
              "    .dataframe tbody tr th {\n",
              "        vertical-align: top;\n",
              "    }\n",
              "\n",
              "    .dataframe thead th {\n",
              "        text-align: right;\n",
              "    }\n",
              "</style>\n",
              "<table border=\"1\" class=\"dataframe\">\n",
              "  <thead>\n",
              "    <tr style=\"text-align: right;\">\n",
              "      <th></th>\n",
              "      <th>store</th>\n",
              "      <th>item</th>\n",
              "      <th>sales</th>\n",
              "      <th>year_n</th>\n",
              "    </tr>\n",
              "  </thead>\n",
              "  <tbody>\n",
              "    <tr>\n",
              "      <th>count</th>\n",
              "      <td>913000.000000</td>\n",
              "      <td>913000.000000</td>\n",
              "      <td>913000.000000</td>\n",
              "      <td>913000.000000</td>\n",
              "    </tr>\n",
              "    <tr>\n",
              "      <th>mean</th>\n",
              "      <td>5.500000</td>\n",
              "      <td>25.500000</td>\n",
              "      <td>52.250287</td>\n",
              "      <td>2015.000548</td>\n",
              "    </tr>\n",
              "    <tr>\n",
              "      <th>std</th>\n",
              "      <td>2.872283</td>\n",
              "      <td>14.430878</td>\n",
              "      <td>28.801144</td>\n",
              "      <td>1.414021</td>\n",
              "    </tr>\n",
              "    <tr>\n",
              "      <th>min</th>\n",
              "      <td>1.000000</td>\n",
              "      <td>1.000000</td>\n",
              "      <td>0.000000</td>\n",
              "      <td>2013.000000</td>\n",
              "    </tr>\n",
              "    <tr>\n",
              "      <th>25%</th>\n",
              "      <td>3.000000</td>\n",
              "      <td>13.000000</td>\n",
              "      <td>30.000000</td>\n",
              "      <td>2014.000000</td>\n",
              "    </tr>\n",
              "    <tr>\n",
              "      <th>50%</th>\n",
              "      <td>5.500000</td>\n",
              "      <td>25.500000</td>\n",
              "      <td>47.000000</td>\n",
              "      <td>2015.000000</td>\n",
              "    </tr>\n",
              "    <tr>\n",
              "      <th>75%</th>\n",
              "      <td>8.000000</td>\n",
              "      <td>38.000000</td>\n",
              "      <td>70.000000</td>\n",
              "      <td>2016.000000</td>\n",
              "    </tr>\n",
              "    <tr>\n",
              "      <th>max</th>\n",
              "      <td>10.000000</td>\n",
              "      <td>50.000000</td>\n",
              "      <td>231.000000</td>\n",
              "      <td>2017.000000</td>\n",
              "    </tr>\n",
              "  </tbody>\n",
              "</table>\n",
              "</div>"
            ],
            "text/plain": [
              "               store           item          sales         year_n\n",
              "count  913000.000000  913000.000000  913000.000000  913000.000000\n",
              "mean        5.500000      25.500000      52.250287    2015.000548\n",
              "std         2.872283      14.430878      28.801144       1.414021\n",
              "min         1.000000       1.000000       0.000000    2013.000000\n",
              "25%         3.000000      13.000000      30.000000    2014.000000\n",
              "50%         5.500000      25.500000      47.000000    2015.000000\n",
              "75%         8.000000      38.000000      70.000000    2016.000000\n",
              "max        10.000000      50.000000     231.000000    2017.000000"
            ]
          },
          "metadata": {
            "tags": []
          },
          "execution_count": 24
        }
      ]
    },
    {
      "cell_type": "code",
      "metadata": {
        "colab": {
          "base_uri": "https://localhost:8080/",
          "height": 434
        },
        "id": "kXzWERePuJsB",
        "outputId": "28b27de7-1cdf-4afa-c637-572642c7086f"
      },
      "source": [
        "import matplotlib.pyplot as plt\r\n",
        "import seaborn as sns\r\n",
        "\r\n",
        "\r\n",
        "plt.figure(figsize=(14,6))\r\n",
        "sns.countplot(data=train, x='month_n')\r\n",
        "plt.xticks(rotation=90)\r\n",
        "plt.show()"
      ],
      "execution_count": null,
      "outputs": [
        {
          "output_type": "display_data",
          "data": {
            "image/png": "[encoded data removed]",
            "text/plain": [
              "<Figure size 1008x432 with 1 Axes>"
            ]
          },
          "metadata": {
            "tags": [],
            "needs_background": "light"
          }
        }
      ]
    },
    {
      "cell_type": "code",
      "metadata": {
        "id": "foNfAcfzUk_-"
      },
      "source": [
        "month_sort = train.sort_values('sales',ascending=False).reset_index()"
      ],
      "execution_count": null,
      "outputs": []
    },
    {
      "cell_type": "code",
      "metadata": {
        "colab": {
          "base_uri": "https://localhost:8080/",
          "height": 450
        },
        "id": "_g1KSWbZSN0y",
        "outputId": "680b231e-8121-4a7d-bd50-8f5e0eb6301c"
      },
      "source": [
        "plt.figure(figsize=(14,6))\r\n",
        "ax = sns.barplot(x=\"month_n\", y=\"sales\", data=month_sort)\r\n",
        "plt.title(label='Mean of sales of each month')\r\n",
        "plt.xticks(rotation=90)\r\n",
        "plt.show()"
      ],
      "execution_count": null,
      "outputs": [
        {
          "output_type": "display_data",
          "data": {
            "image/png": "[encoded data removed]",
            "text/plain": [
              "<Figure size 1008x432 with 1 Axes>"
            ]
          },
          "metadata": {
            "tags": [],
            "needs_background": "light"
          }
        }
      ]
    },
    {
      "cell_type": "code",
      "metadata": {
        "colab": {
          "base_uri": "https://localhost:8080/"
        },
        "id": "OGsTEg8G0Bn8",
        "outputId": "c3af5a2b-4679-4ebf-d782-b1e2733f6308"
      },
      "source": [
        "train.loc[train['month_n']=='September','sales'].mean()"
      ],
      "execution_count": null,
      "outputs": [
        {
          "output_type": "execute_result",
          "data": {
            "text/plain": [
              "55.07276"
            ]
          },
          "metadata": {
            "tags": []
          },
          "execution_count": 28
        }
      ]
    },
    {
      "cell_type": "code",
      "metadata": {
        "colab": {
          "base_uri": "https://localhost:8080/"
        },
        "id": "wSRy4s2mQHGV",
        "outputId": "e49c5f31-2d3e-42e2-bdaf-772785cf1b2d"
      },
      "source": [
        "train.loc[train['month_n']=='July','sales'].mean()"
      ],
      "execution_count": null,
      "outputs": [
        {
          "output_type": "execute_result",
          "data": {
            "text/plain": [
              "66.99861935483871"
            ]
          },
          "metadata": {
            "tags": []
          },
          "execution_count": 29
        }
      ]
    },
    {
      "cell_type": "code",
      "metadata": {
        "colab": {
          "base_uri": "https://localhost:8080/",
          "height": 453
        },
        "id": "bebGpE8Ia_74",
        "outputId": "fe1c87c4-377b-4aa8-89ff-e5a5f4dceaa2"
      },
      "source": [
        "plt.figure(figsize=(14,6))\r\n",
        "ax = sns.barplot(x=\"day_n\", y=\"sales\", data=train)\r\n",
        "plt.title(label='Mean of sales of each day')\r\n",
        "plt.xticks(rotation=90)\r\n",
        "plt.show()"
      ],
      "execution_count": null,
      "outputs": [
        {
          "output_type": "display_data",
          "data": {
            "image/png": "[encoded data removed]",
            "text/plain": [
              "<Figure size 1008x432 with 1 Axes>"
            ]
          },
          "metadata": {
            "tags": [],
            "needs_background": "light"
          }
        }
      ]
    },
    {
      "cell_type": "code",
      "metadata": {
        "colab": {
          "base_uri": "https://localhost:8080/",
          "height": 419
        },
        "id": "_-P0vLH-rlNG",
        "outputId": "a2cbf5a3-b6e4-42c6-8154-11c63bd83073"
      },
      "source": [
        "plt.figure(figsize=(14,6))\r\n",
        "ax = sns.barplot(x=\"year_n\", y=\"sales\", data=train)\r\n",
        "plt.title(label='Mean of sales of each year')\r\n",
        "plt.xticks(rotation=90)\r\n",
        "plt.show()"
      ],
      "execution_count": null,
      "outputs": [
        {
          "output_type": "display_data",
          "data": {
            "image/png": "[encoded data removed]",
            "text/plain": [
              "<Figure size 1008x432 with 1 Axes>"
            ]
          },
          "metadata": {
            "tags": [],
            "needs_background": "light"
          }
        }
      ]
    },
    {
      "cell_type": "code",
      "metadata": {
        "colab": {
          "base_uri": "https://localhost:8080/",
          "height": 390
        },
        "id": "aJwJ914RbyAw",
        "outputId": "17a4e0f8-f62e-4199-d0d7-e35bf3c7557d"
      },
      "source": [
        "plt.figure(figsize=(20,6))\r\n",
        "ax = sns.barplot(x=\"item\", y=\"sales\", data=train)\r\n",
        "plt.title(label='Mean of sales of each item')\r\n",
        "plt.xticks(rotation=90)\r\n",
        "plt.show()"
      ],
      "execution_count": null,
      "outputs": [
        {
          "output_type": "display_data",
          "data": {
            "image/png": "[encoded data removed]",
            "text/plain": [
              "<Figure size 1440x432 with 1 Axes>"
            ]
          },
          "metadata": {
            "tags": [],
            "needs_background": "light"
          }
        }
      ]
    },
    {
      "cell_type": "code",
      "metadata": {
        "colab": {
          "base_uri": "https://localhost:8080/"
        },
        "id": "pqcNFEPijRmM",
        "outputId": "f56d9c91-f8bf-45f1-d293-2a7dfeddb095"
      },
      "source": [
        "!pip install catboost"
      ],
      "execution_count": null,
      "outputs": [
        {
          "output_type": "stream",
          "text": [
            "Collecting catboost\n",
            "\u001b[?25l  Downloading https://files.pythonhosted.org/packages/20/37/bc4e0ddc30c07a96482abf1de7ed1ca54e59bba2026a33bca6d2ef286e5b/catboost-0.24.4-cp36-none-manylinux1_x86_64.whl (65.7MB)\n",
            "\u001b[K     |████████████████████████████████| 65.8MB 58kB/s \n",
            "\u001b[?25hRequirement already satisfied: graphviz in /usr/local/lib/python3.6/dist-packages (from catboost) (0.10.1)\n",
            "Requirement already satisfied: pandas>=0.24.0 in /usr/local/lib/python3.6/dist-packages (from catboost) (1.1.5)\n",
            "Requirement already satisfied: numpy>=1.16.0 in /usr/local/lib/python3.6/dist-packages (from catboost) (1.19.5)\n",
            "Requirement already satisfied: plotly in /usr/local/lib/python3.6/dist-packages (from catboost) (4.4.1)\n",
            "Requirement already satisfied: six in /usr/local/lib/python3.6/dist-packages (from catboost) (1.15.0)\n",
            "Requirement already satisfied: scipy in /usr/local/lib/python3.6/dist-packages (from catboost) (1.4.1)\n",
            "Requirement already satisfied: matplotlib in /usr/local/lib/python3.6/dist-packages (from catboost) (3.2.2)\n",
            "Requirement already satisfied: pytz>=2017.2 in /usr/local/lib/python3.6/dist-packages (from pandas>=0.24.0->catboost) (2018.9)\n",
            "Requirement already satisfied: python-dateutil>=2.7.3 in /usr/local/lib/python3.6/dist-packages (from pandas>=0.24.0->catboost) (2.8.1)\n",
            "Requirement already satisfied: retrying>=1.3.3 in /usr/local/lib/python3.6/dist-packages (from plotly->catboost) (1.3.3)\n",
            "Requirement already satisfied: kiwisolver>=1.0.1 in /usr/local/lib/python3.6/dist-packages (from matplotlib->catboost) (1.3.1)\n",
            "Requirement already satisfied: pyparsing!=2.0.4,!=2.1.2,!=2.1.6,>=2.0.1 in /usr/local/lib/python3.6/dist-packages (from matplotlib->catboost) (2.4.7)\n",
            "Requirement already satisfied: cycler>=0.10 in /usr/local/lib/python3.6/dist-packages (from matplotlib->catboost) (0.10.0)\n",
            "Installing collected packages: catboost\n",
            "Successfully installed catboost-0.24.4\n"
          ],
          "name": "stdout"
        }
      ]
    },
    {
      "cell_type": "code",
      "metadata": {
        "id": "0SemRhs5dgxO"
      },
      "source": [
        "from sklearn.model_selection import train_test_split\r\n",
        "from sklearn.metrics import mean_absolute_error,mean_squared_error\r\n",
        "from sklearn.preprocessing import StandardScaler\r\n",
        "from sklearn.linear_model import LinearRegression\r\n",
        "from sklearn.svm import SVR\r\n",
        "from sklearn.linear_model import SGDRegressor\r\n",
        "from sklearn.tree import DecisionTreeRegressor\r\n",
        "from sklearn.cross_decomposition import PLSRegression\r\n",
        "from sklearn.gaussian_process import GaussianProcessRegressor\r\n",
        "from sklearn.neighbors import KNeighborsRegressor\r\n",
        "from catboost import CatBoostRegressor\r\n",
        "from xgboost import XGBRegressor\r\n",
        "from sklearn.ensemble import AdaBoostRegressor\r\n",
        "from sklearn.ensemble import GradientBoostingRegressor\r\n",
        "from sklearn.ensemble import ExtraTreesRegressor\r\n",
        "from sklearn.neural_network import MLPRegressor\r\n",
        "from sklearn.linear_model import HuberRegressor"
      ],
      "execution_count": null,
      "outputs": []
    },
    {
      "cell_type": "code",
      "metadata": {
        "colab": {
          "base_uri": "https://localhost:8080/"
        },
        "id": "JPjGzLQVlNgl",
        "outputId": "8062e2e8-5e4b-4e1b-b6ee-f323adc6fc0b"
      },
      "source": [
        "X.dtypes"
      ],
      "execution_count": null,
      "outputs": [
        {
          "output_type": "execute_result",
          "data": {
            "text/plain": [
              "date       datetime64[ns]\n",
              "store               int64\n",
              "item                int64\n",
              "sales               int64\n",
              "day_n              object\n",
              "month_n            object\n",
              "year_n              int64\n",
              "dtype: object"
            ]
          },
          "metadata": {
            "tags": []
          },
          "execution_count": 35
        }
      ]
    },
    {
      "cell_type": "code",
      "metadata": {
        "colab": {
          "base_uri": "https://localhost:8080/",
          "height": 106
        },
        "id": "Rt4jlN6mnE9b",
        "outputId": "decf7503-c4d9-45d4-8cd0-0daff4795d27"
      },
      "source": [
        "train.head(2)"
      ],
      "execution_count": null,
      "outputs": [
        {
          "output_type": "execute_result",
          "data": {
            "text/html": [
              "<div>\n",
              "<style scoped>\n",
              "    .dataframe tbody tr th:only-of-type {\n",
              "        vertical-align: middle;\n",
              "    }\n",
              "\n",
              "    .dataframe tbody tr th {\n",
              "        vertical-align: top;\n",
              "    }\n",
              "\n",
              "    .dataframe thead th {\n",
              "        text-align: right;\n",
              "    }\n",
              "</style>\n",
              "<table border=\"1\" class=\"dataframe\">\n",
              "  <thead>\n",
              "    <tr style=\"text-align: right;\">\n",
              "      <th></th>\n",
              "      <th>date</th>\n",
              "      <th>store</th>\n",
              "      <th>item</th>\n",
              "      <th>sales</th>\n",
              "      <th>day_n</th>\n",
              "      <th>month_n</th>\n",
              "      <th>year_n</th>\n",
              "    </tr>\n",
              "  </thead>\n",
              "  <tbody>\n",
              "    <tr>\n",
              "      <th>0</th>\n",
              "      <td>2013-01-01</td>\n",
              "      <td>1</td>\n",
              "      <td>1</td>\n",
              "      <td>13</td>\n",
              "      <td>Tuesday</td>\n",
              "      <td>January</td>\n",
              "      <td>2013</td>\n",
              "    </tr>\n",
              "    <tr>\n",
              "      <th>1</th>\n",
              "      <td>2013-01-02</td>\n",
              "      <td>1</td>\n",
              "      <td>1</td>\n",
              "      <td>11</td>\n",
              "      <td>Wednesday</td>\n",
              "      <td>January</td>\n",
              "      <td>2013</td>\n",
              "    </tr>\n",
              "  </tbody>\n",
              "</table>\n",
              "</div>"
            ],
            "text/plain": [
              "        date  store  item  sales      day_n  month_n  year_n\n",
              "0 2013-01-01      1     1     13    Tuesday  January    2013\n",
              "1 2013-01-02      1     1     11  Wednesday  January    2013"
            ]
          },
          "metadata": {
            "tags": []
          },
          "execution_count": 36
        }
      ]
    },
    {
      "cell_type": "code",
      "metadata": {
        "id": "QvWf_SpCjP3T"
      },
      "source": [
        "y = train['sales']\r\n",
        "X = train.iloc[:,:3]"
      ],
      "execution_count": null,
      "outputs": []
    },
    {
      "cell_type": "code",
      "metadata": {
        "colab": {
          "base_uri": "https://localhost:8080/",
          "height": 195
        },
        "id": "kr4D4poNkn81",
        "outputId": "38d55f43-a160-40f4-95d0-3b0264c9ad6e"
      },
      "source": [
        "X.head()"
      ],
      "execution_count": null,
      "outputs": [
        {
          "output_type": "execute_result",
          "data": {
            "text/html": [
              "<div>\n",
              "<style scoped>\n",
              "    .dataframe tbody tr th:only-of-type {\n",
              "        vertical-align: middle;\n",
              "    }\n",
              "\n",
              "    .dataframe tbody tr th {\n",
              "        vertical-align: top;\n",
              "    }\n",
              "\n",
              "    .dataframe thead th {\n",
              "        text-align: right;\n",
              "    }\n",
              "</style>\n",
              "<table border=\"1\" class=\"dataframe\">\n",
              "  <thead>\n",
              "    <tr style=\"text-align: right;\">\n",
              "      <th></th>\n",
              "      <th>date</th>\n",
              "      <th>store</th>\n",
              "      <th>item</th>\n",
              "    </tr>\n",
              "  </thead>\n",
              "  <tbody>\n",
              "    <tr>\n",
              "      <th>0</th>\n",
              "      <td>2013-01-01</td>\n",
              "      <td>1</td>\n",
              "      <td>1</td>\n",
              "    </tr>\n",
              "    <tr>\n",
              "      <th>1</th>\n",
              "      <td>2013-01-02</td>\n",
              "      <td>1</td>\n",
              "      <td>1</td>\n",
              "    </tr>\n",
              "    <tr>\n",
              "      <th>2</th>\n",
              "      <td>2013-01-03</td>\n",
              "      <td>1</td>\n",
              "      <td>1</td>\n",
              "    </tr>\n",
              "    <tr>\n",
              "      <th>3</th>\n",
              "      <td>2013-01-04</td>\n",
              "      <td>1</td>\n",
              "      <td>1</td>\n",
              "    </tr>\n",
              "    <tr>\n",
              "      <th>4</th>\n",
              "      <td>2013-01-05</td>\n",
              "      <td>1</td>\n",
              "      <td>1</td>\n",
              "    </tr>\n",
              "  </tbody>\n",
              "</table>\n",
              "</div>"
            ],
            "text/plain": [
              "        date  store  item\n",
              "0 2013-01-01      1     1\n",
              "1 2013-01-02      1     1\n",
              "2 2013-01-03      1     1\n",
              "3 2013-01-04      1     1\n",
              "4 2013-01-05      1     1"
            ]
          },
          "metadata": {
            "tags": []
          },
          "execution_count": 38
        }
      ]
    },
    {
      "cell_type": "code",
      "metadata": {
        "colab": {
          "base_uri": "https://localhost:8080/"
        },
        "id": "wSa_qVL4nQHe",
        "outputId": "76fa4772-dfe0-453c-f95a-9daab3d2afef"
      },
      "source": [
        "X_train,X_test,y_train,y_test= train_test_split(X,y,test_size=0.2,random_state=1)\r\n",
        "y_test.shape,y_train.shape"
      ],
      "execution_count": null,
      "outputs": [
        {
          "output_type": "execute_result",
          "data": {
            "text/plain": [
              "((182600,), (730400,))"
            ]
          },
          "metadata": {
            "tags": []
          },
          "execution_count": 18
        }
      ]
    },
    {
      "cell_type": "code",
      "metadata": {
        "colab": {
          "base_uri": "https://localhost:8080/"
        },
        "id": "POP5UzyJnsn7",
        "outputId": "fb3054ab-5e29-46d4-91a6-70ac4ef3e8f0"
      },
      "source": [
        "sc = StandardScaler()\r\n",
        "X_train.iloc[:,1:3] = sc.fit_transform(X_train.iloc[:,1:3])\r\n",
        "X_test.iloc[:,1:3] = sc.fit_transform(X_test.iloc[:,1:3])"
      ],
      "execution_count": null,
      "outputs": [
        {
          "output_type": "stream",
          "text": [
            "/usr/local/lib/python3.6/dist-packages/pandas/core/indexing.py:1734: SettingWithCopyWarning: \n",
            "A value is trying to be set on a copy of a slice from a DataFrame.\n",
            "Try using .loc[row_indexer,col_indexer] = value instead\n",
            "\n",
            "See the caveats in the documentation: https://pandas.pydata.org/pandas-docs/stable/user_guide/indexing.html#returning-a-view-versus-a-copy\n",
            "  isetter(loc, value[:, i].tolist())\n",
            "/usr/local/lib/python3.6/dist-packages/pandas/core/indexing.py:1734: SettingWithCopyWarning: \n",
            "A value is trying to be set on a copy of a slice from a DataFrame.\n",
            "Try using .loc[row_indexer,col_indexer] = value instead\n",
            "\n",
            "See the caveats in the documentation: https://pandas.pydata.org/pandas-docs/stable/user_guide/indexing.html#returning-a-view-versus-a-copy\n",
            "  isetter(loc, value[:, i].tolist())\n"
          ],
          "name": "stderr"
        }
      ]
    },
    {
      "cell_type": "code",
      "metadata": {
        "colab": {
          "base_uri": "https://localhost:8080/",
          "height": 402
        },
        "id": "wVEiB8sWsdbQ",
        "outputId": "2ef55554-66ea-4bd7-fcb5-041d47bc3b2b"
      },
      "source": [
        "X_train"
      ],
      "execution_count": null,
      "outputs": [
        {
          "output_type": "execute_result",
          "data": {
            "text/html": [
              "<div>\n",
              "<style scoped>\n",
              "    .dataframe tbody tr th:only-of-type {\n",
              "        vertical-align: middle;\n",
              "    }\n",
              "\n",
              "    .dataframe tbody tr th {\n",
              "        vertical-align: top;\n",
              "    }\n",
              "\n",
              "    .dataframe thead th {\n",
              "        text-align: right;\n",
              "    }\n",
              "</style>\n",
              "<table border=\"1\" class=\"dataframe\">\n",
              "  <thead>\n",
              "    <tr style=\"text-align: right;\">\n",
              "      <th></th>\n",
              "      <th>date</th>\n",
              "      <th>store</th>\n",
              "      <th>item</th>\n",
              "    </tr>\n",
              "  </thead>\n",
              "  <tbody>\n",
              "    <tr>\n",
              "      <th>260085</th>\n",
              "      <td>2015-03-05</td>\n",
              "      <td>-0.870505</td>\n",
              "      <td>-0.728536</td>\n",
              "    </tr>\n",
              "    <tr>\n",
              "      <th>167448</th>\n",
              "      <td>2016-07-06</td>\n",
              "      <td>-1.218655</td>\n",
              "      <td>-1.075006</td>\n",
              "    </tr>\n",
              "    <tr>\n",
              "      <th>118087</th>\n",
              "      <td>2016-05-08</td>\n",
              "      <td>-0.174205</td>\n",
              "      <td>-1.282887</td>\n",
              "    </tr>\n",
              "    <tr>\n",
              "      <th>119783</th>\n",
              "      <td>2015-12-30</td>\n",
              "      <td>0.173945</td>\n",
              "      <td>-1.282887</td>\n",
              "    </tr>\n",
              "    <tr>\n",
              "      <th>280352</th>\n",
              "      <td>2015-09-02</td>\n",
              "      <td>-0.522355</td>\n",
              "      <td>-0.659242</td>\n",
              "    </tr>\n",
              "    <tr>\n",
              "      <th>...</th>\n",
              "      <td>...</td>\n",
              "      <td>...</td>\n",
              "      <td>...</td>\n",
              "    </tr>\n",
              "    <tr>\n",
              "      <th>491263</th>\n",
              "      <td>2013-03-11</td>\n",
              "      <td>1.566545</td>\n",
              "      <td>0.102990</td>\n",
              "    </tr>\n",
              "    <tr>\n",
              "      <th>791624</th>\n",
              "      <td>2015-08-25</td>\n",
              "      <td>-0.522355</td>\n",
              "      <td>1.280986</td>\n",
              "    </tr>\n",
              "    <tr>\n",
              "      <th>470924</th>\n",
              "      <td>2017-07-01</td>\n",
              "      <td>0.870245</td>\n",
              "      <td>0.033697</td>\n",
              "    </tr>\n",
              "    <tr>\n",
              "      <th>491755</th>\n",
              "      <td>2014-07-16</td>\n",
              "      <td>1.566545</td>\n",
              "      <td>0.102990</td>\n",
              "    </tr>\n",
              "    <tr>\n",
              "      <th>128037</th>\n",
              "      <td>2013-08-06</td>\n",
              "      <td>-1.566805</td>\n",
              "      <td>-1.213593</td>\n",
              "    </tr>\n",
              "  </tbody>\n",
              "</table>\n",
              "<p>730400 rows × 3 columns</p>\n",
              "</div>"
            ],
            "text/plain": [
              "             date     store      item\n",
              "260085 2015-03-05 -0.870505 -0.728536\n",
              "167448 2016-07-06 -1.218655 -1.075006\n",
              "118087 2016-05-08 -0.174205 -1.282887\n",
              "119783 2015-12-30  0.173945 -1.282887\n",
              "280352 2015-09-02 -0.522355 -0.659242\n",
              "...           ...       ...       ...\n",
              "491263 2013-03-11  1.566545  0.102990\n",
              "791624 2015-08-25 -0.522355  1.280986\n",
              "470924 2017-07-01  0.870245  0.033697\n",
              "491755 2014-07-16  1.566545  0.102990\n",
              "128037 2013-08-06 -1.566805 -1.213593\n",
              "\n",
              "[730400 rows x 3 columns]"
            ]
          },
          "metadata": {
            "tags": []
          },
          "execution_count": 41
        }
      ]
    },
    {
      "cell_type": "code",
      "metadata": {
        "colab": {
          "base_uri": "https://localhost:8080/"
        },
        "id": "ADkfpMbesXBK",
        "outputId": "a886a0c9-0a2f-4159-b68a-1023f2b3d87e"
      },
      "source": [
        "import datetime as dt\r\n",
        "X_train['date']=X_train['date'].map(dt.datetime.toordinal)"
      ],
      "execution_count": null,
      "outputs": [
        {
          "output_type": "stream",
          "text": [
            "/usr/local/lib/python3.6/dist-packages/ipykernel_launcher.py:2: SettingWithCopyWarning: \n",
            "A value is trying to be set on a copy of a slice from a DataFrame.\n",
            "Try using .loc[row_indexer,col_indexer] = value instead\n",
            "\n",
            "See the caveats in the documentation: https://pandas.pydata.org/pandas-docs/stable/user_guide/indexing.html#returning-a-view-versus-a-copy\n",
            "  \n"
          ],
          "name": "stderr"
        }
      ]
    },
    {
      "cell_type": "code",
      "metadata": {
        "colab": {
          "base_uri": "https://localhost:8080/"
        },
        "id": "fZyitg3nvTvD",
        "outputId": "00ca0f23-0293-4f5a-ab9f-b9245018fbd5"
      },
      "source": [
        "X_test['date']=X_test['date'].map(dt.datetime.toordinal)"
      ],
      "execution_count": null,
      "outputs": [
        {
          "output_type": "stream",
          "text": [
            "/usr/local/lib/python3.6/dist-packages/ipykernel_launcher.py:1: SettingWithCopyWarning: \n",
            "A value is trying to be set on a copy of a slice from a DataFrame.\n",
            "Try using .loc[row_indexer,col_indexer] = value instead\n",
            "\n",
            "See the caveats in the documentation: https://pandas.pydata.org/pandas-docs/stable/user_guide/indexing.html#returning-a-view-versus-a-copy\n",
            "  \"\"\"Entry point for launching an IPython kernel.\n"
          ],
          "name": "stderr"
        }
      ]
    },
    {
      "cell_type": "code",
      "metadata": {
        "id": "nB1f9ilTn0xO"
      },
      "source": [
        "Regressors = [\r\n",
        "              ['LinearRegression :',LinearRegression()],\r\n",
        "              #['SVR :',SVR()],\r\n",
        "              ['SGDRegressor :',SGDRegressor()],\r\n",
        "              ['DecisionTreeRegressor :',DecisionTreeRegressor()],\r\n",
        "              ['PLSRegression :',PLSRegression()],\r\n",
        "              #['GaussianProcessRegressor :',GaussianProcessRegressor()],\r\n",
        "              ['KNeighborsRegressor :',KNeighborsRegressor()],\r\n",
        "              ['CatBoostRegressor :',CatBoostRegressor(logging_level='Silent')],\r\n",
        "              ['XGBRegressor :',XGBRegressor()],\r\n",
        "              ['AdaBoostRegressor :',AdaBoostRegressor()],\r\n",
        "              ['GradientBoostingRegressor :',GradientBoostingRegressor()],\r\n",
        "              ['ExtraTreesRegressor :',ExtraTreesRegressor()],\r\n",
        "              ['HuberRegressor :',HuberRegressor()],\r\n",
        "              ['MLPRegressor :',MLPRegressor(hidden_layer_sizes=100, activation='relu',\r\n",
        "                                             solver='adam', alpha=0.0001, batch_size='auto')]\r\n",
        "]"
      ],
      "execution_count": null,
      "outputs": []
    },
    {
      "cell_type": "code",
      "metadata": {
        "colab": {
          "base_uri": "https://localhost:8080/"
        },
        "id": "UH2KG8R9oFSd",
        "outputId": "9567b8c9-f541-47c2-cff2-c9c25583f2e2"
      },
      "source": [
        "predictions_df = pd.DataFrame()\r\n",
        "predictions_df['actual_labels'] = y_test\r\n",
        "accu=dict()\r\n",
        "for name,Regressor in Regressors:\r\n",
        "    Regressor = Regressor\r\n",
        "    Regressor.fit(X_train, y_train)\r\n",
        "    predictions = Regressor.predict(X_test)\r\n",
        "    predictions_df[name.strip(\" :\")] = predictions\r\n",
        "    accu[name.replace(' :','')]=[mean_absolute_error(y_test, predictions)]\r\n",
        "    print(name, mean_squared_error(y_test, predictions))\r\n"
      ],
      "execution_count": null,
      "outputs": [
        {
          "output_type": "stream",
          "text": [
            "LinearRegression : 793.1919953164781\n",
            "SGDRegressor : 4.243679604583254e+39\n",
            "DecisionTreeRegressor : 179.16619934282585\n",
            "PLSRegression : 793.1919952924976\n",
            "KNeighborsRegressor : 618.7523053669222\n",
            "CatBoostRegressor : 116.65649669680364\n",
            "[11:26:26] WARNING: /workspace/src/objective/regression_obj.cu:152: reg:linear is now deprecated in favor of reg:squarederror.\n",
            "XGBRegressor : 275.02782000470523\n",
            "AdaBoostRegressor : 819.8167032798943\n",
            "GradientBoostingRegressor : 275.0197437741357\n",
            "ExtraTreesRegressor : 139.95410385049286\n",
            "HuberRegressor : 842.6170742768211\n"
          ],
          "name": "stdout"
        },
        {
          "output_type": "stream",
          "text": [
            "/usr/local/lib/python3.6/dist-packages/sklearn/neural_network/_multilayer_perceptron.py:571: ConvergenceWarning: Stochastic Optimizer: Maximum iterations (200) reached and the optimization hasn't converged yet.\n",
            "  % self.max_iter, ConvergenceWarning)\n"
          ],
          "name": "stderr"
        },
        {
          "output_type": "stream",
          "text": [
            "MLPRegressor : 1522.2070287581028\n"
          ],
          "name": "stdout"
        }
      ]
    },
    {
      "cell_type": "code",
      "metadata": {
        "id": "SxrwIdTDqdj-",
        "colab": {
          "base_uri": "https://localhost:8080/",
          "height": 215
        },
        "outputId": "4de2d262-5752-4ad8-c049-0425c9b4df9b"
      },
      "source": [
        "# the best value is 0.0\r\n",
        "predictions_df.head()"
      ],
      "execution_count": null,
      "outputs": [
        {
          "output_type": "execute_result",
          "data": {
            "text/html": [
              "<div>\n",
              "<style scoped>\n",
              "    .dataframe tbody tr th:only-of-type {\n",
              "        vertical-align: middle;\n",
              "    }\n",
              "\n",
              "    .dataframe tbody tr th {\n",
              "        vertical-align: top;\n",
              "    }\n",
              "\n",
              "    .dataframe thead th {\n",
              "        text-align: right;\n",
              "    }\n",
              "</style>\n",
              "<table border=\"1\" class=\"dataframe\">\n",
              "  <thead>\n",
              "    <tr style=\"text-align: right;\">\n",
              "      <th></th>\n",
              "      <th>actual_labels</th>\n",
              "      <th>LinearRegression</th>\n",
              "      <th>SGDRegressor</th>\n",
              "      <th>DecisionTreeRegressor</th>\n",
              "      <th>PLSRegression</th>\n",
              "      <th>KNeighborsRegressor</th>\n",
              "      <th>CatBoostRegressor</th>\n",
              "      <th>XGBRegressor</th>\n",
              "      <th>AdaBoostRegressor</th>\n",
              "      <th>GradientBoostingRegressor</th>\n",
              "      <th>ExtraTreesRegressor</th>\n",
              "      <th>HuberRegressor</th>\n",
              "      <th>MLPRegressor</th>\n",
              "    </tr>\n",
              "  </thead>\n",
              "  <tbody>\n",
              "    <tr>\n",
              "      <th>782526</th>\n",
              "      <td>58</td>\n",
              "      <td>50.891828</td>\n",
              "      <td>6.515098e+19</td>\n",
              "      <td>55.0</td>\n",
              "      <td>50.891828</td>\n",
              "      <td>52.8</td>\n",
              "      <td>55.366596</td>\n",
              "      <td>48.008209</td>\n",
              "      <td>72.996612</td>\n",
              "      <td>48.009607</td>\n",
              "      <td>50.60</td>\n",
              "      <td>43.437246</td>\n",
              "      <td>76.559647</td>\n",
              "    </tr>\n",
              "    <tr>\n",
              "      <th>82050</th>\n",
              "      <td>22</td>\n",
              "      <td>63.088845</td>\n",
              "      <td>6.521366e+19</td>\n",
              "      <td>20.0</td>\n",
              "      <td>63.088845</td>\n",
              "      <td>58.6</td>\n",
              "      <td>13.731178</td>\n",
              "      <td>20.979887</td>\n",
              "      <td>39.789301</td>\n",
              "      <td>20.981244</td>\n",
              "      <td>21.49</td>\n",
              "      <td>54.098176</td>\n",
              "      <td>81.011324</td>\n",
              "    </tr>\n",
              "    <tr>\n",
              "      <th>718739</th>\n",
              "      <td>17</td>\n",
              "      <td>52.993973</td>\n",
              "      <td>6.516187e+19</td>\n",
              "      <td>27.0</td>\n",
              "      <td>52.993973</td>\n",
              "      <td>26.8</td>\n",
              "      <td>18.875317</td>\n",
              "      <td>32.137699</td>\n",
              "      <td>62.574242</td>\n",
              "      <td>32.138746</td>\n",
              "      <td>19.86</td>\n",
              "      <td>44.950801</td>\n",
              "      <td>77.258376</td>\n",
              "    </tr>\n",
              "    <tr>\n",
              "      <th>142779</th>\n",
              "      <td>56</td>\n",
              "      <td>47.862778</td>\n",
              "      <td>6.509369e+19</td>\n",
              "      <td>53.0</td>\n",
              "      <td>47.862778</td>\n",
              "      <td>36.8</td>\n",
              "      <td>54.602957</td>\n",
              "      <td>58.350357</td>\n",
              "      <td>69.529620</td>\n",
              "      <td>58.351919</td>\n",
              "      <td>55.56</td>\n",
              "      <td>52.645778</td>\n",
              "      <td>80.253507</td>\n",
              "    </tr>\n",
              "    <tr>\n",
              "      <th>78837</th>\n",
              "      <td>12</td>\n",
              "      <td>48.302513</td>\n",
              "      <td>6.509086e+19</td>\n",
              "      <td>15.0</td>\n",
              "      <td>48.302514</td>\n",
              "      <td>58.6</td>\n",
              "      <td>17.200783</td>\n",
              "      <td>24.279907</td>\n",
              "      <td>46.728552</td>\n",
              "      <td>24.281115</td>\n",
              "      <td>27.43</td>\n",
              "      <td>54.149099</td>\n",
              "      <td>80.935667</td>\n",
              "    </tr>\n",
              "  </tbody>\n",
              "</table>\n",
              "</div>"
            ],
            "text/plain": [
              "        actual_labels  LinearRegression  ...  HuberRegressor  MLPRegressor\n",
              "782526             58         50.891828  ...       43.437246     76.559647\n",
              "82050              22         63.088845  ...       54.098176     81.011324\n",
              "718739             17         52.993973  ...       44.950801     77.258376\n",
              "142779             56         47.862778  ...       52.645778     80.253507\n",
              "78837              12         48.302513  ...       54.149099     80.935667\n",
              "\n",
              "[5 rows x 13 columns]"
            ]
          },
          "metadata": {
            "tags": []
          },
          "execution_count": 58
        }
      ]
    },
    {
      "cell_type": "code",
      "metadata": {
        "colab": {
          "base_uri": "https://localhost:8080/"
        },
        "id": "pIAMMV8LayUA",
        "outputId": "6f2ae02a-699d-4df6-dc21-c611458a8160"
      },
      "source": [
        "accu"
      ],
      "execution_count": null,
      "outputs": [
        {
          "output_type": "execute_result",
          "data": {
            "text/plain": [
              "{'AdaBoostRegressor': [24.283133646953477],\n",
              " 'CatBoostRegressor': [8.185439149268307],\n",
              " 'DecisionTreeRegressor': [9.853439211391018],\n",
              " 'ExtraTreesRegressor': [8.894883844468781],\n",
              " 'GradientBoostingRegressor': [12.547360335975082],\n",
              " 'HuberRegressor': [22.744415041239776],\n",
              " 'KNeighborsRegressor': [19.939634173055854],\n",
              " 'LinearRegression': [22.644846541098076],\n",
              " 'MLPRegressor': [33.9899318743321],\n",
              " 'PLSRegression': [22.64484653877567],\n",
              " 'SGDRegressor': [6.514351409589359e+19],\n",
              " 'XGBRegressor': [12.547357796563116]}"
            ]
          },
          "metadata": {
            "tags": []
          },
          "execution_count": 59
        }
      ]
    },
    {
      "cell_type": "code",
      "metadata": {
        "id": "Xi9ibS0oehwY",
        "colab": {
          "base_uri": "https://localhost:8080/"
        },
        "outputId": "f49669f3-3367-49ec-cc80-06206d52d0c5"
      },
      "source": [
        "from collections import OrderedDict\r\n",
        "accu_sorted_by_value = OrderedDict(sorted(accu.items(), key=lambda x: x[1]))\r\n",
        "accu_sorted_by_value"
      ],
      "execution_count": null,
      "outputs": [
        {
          "output_type": "execute_result",
          "data": {
            "text/plain": [
              "OrderedDict([('CatBoostRegressor', [8.185439149268307]),\n",
              "             ('ExtraTreesRegressor', [8.894883844468781]),\n",
              "             ('DecisionTreeRegressor', [9.853439211391018]),\n",
              "             ('XGBRegressor', [12.547357796563116]),\n",
              "             ('GradientBoostingRegressor', [12.547360335975082]),\n",
              "             ('KNeighborsRegressor', [19.939634173055854]),\n",
              "             ('PLSRegression', [22.64484653877567]),\n",
              "             ('LinearRegression', [22.644846541098076]),\n",
              "             ('HuberRegressor', [22.744415041239776]),\n",
              "             ('AdaBoostRegressor', [24.283133646953477]),\n",
              "             ('MLPRegressor', [33.9899318743321]),\n",
              "             ('SGDRegressor', [6.514351409589359e+19])])"
            ]
          },
          "metadata": {
            "tags": []
          },
          "execution_count": 62
        }
      ]
    },
    {
      "cell_type": "markdown",
      "metadata": {
        "id": "ncAYmXPyzAC2"
      },
      "source": [
        "```\r\n",
        "OrderedDict([('CatBoostRegressor', [8.185439149268307]),\r\n",
        "             ('ExtraTreesRegressor', [8.894883844468781]),\r\n",
        "             ('DecisionTreeRegressor', [9.853439211391018]),\r\n",
        "             ('XGBRegressor', [12.547357796563116]),\r\n",
        "             ('GradientBoostingRegressor', [12.547360335975082]),\r\n",
        "             ('KNeighborsRegressor', [19.939634173055854]),\r\n",
        "             ('PLSRegression', [22.64484653877567]),\r\n",
        "             ('LinearRegression', [22.644846541098076]),\r\n",
        "             ('HuberRegressor', [22.744415041239776]),\r\n",
        "             ('AdaBoostRegressor', [24.283133646953477]),\r\n",
        "             ('MLPRegressor', [33.9899318743321]),\r\n",
        "             ('SGDRegressor', [6.514351409589359e+19])])\r\n",
        "\r\n",
        "```\r\n",
        "\r\n",
        "\r\n"
      ]
    },
    {
      "cell_type": "code",
      "metadata": {
        "colab": {
          "base_uri": "https://localhost:8080/"
        },
        "id": "eUy-kwUQIUBn",
        "outputId": "25499bd3-e1b9-4136-8827-a7c7f65461fe"
      },
      "source": [
        "from sklearn.model_selection import GridSearchCV\r\n",
        "\r\n",
        "model = CatBoostRegressor()\r\n",
        "parameters = {'depth'         : [6,8,10],\r\n",
        "                  'learning_rate' : [0.01, 0.05, 0.1],\r\n",
        "                  'iterations'    : [30, 50, 100]\r\n",
        "                 }\r\n",
        "grid = GridSearchCV(estimator=model, param_grid = parameters, cv = 2, n_jobs=-1)\r\n",
        "grid.fit(X_train, y_train)    \r\n",
        "\r\n",
        "# Results from Grid Search\r\n",
        "print(\"\\n========================================================\")\r\n",
        "print(\" Results from Grid Search \" )\r\n",
        "print(\"========================================================\")    \r\n",
        "    \r\n",
        "print(\"\\n The best estimator across ALL searched params:\\n\",\r\n",
        "          grid.best_estimator_)\r\n",
        "    \r\n",
        "print(\"\\n The best score across ALL searched params:\\n\",\r\n",
        "          grid.best_score_)\r\n",
        "    \r\n",
        "print(\"\\n The best parameters across ALL searched params:\\n\",\r\n",
        "          grid.best_params_)\r\n",
        "\r\n",
        "print(\"\\n ========================================================\")"
      ],
      "execution_count": null,
      "outputs": [
        {
          "output_type": "stream",
          "text": [
            "0:\tlearn: 27.7480866\ttotal: 194ms\tremaining: 19.2s\n",
            "1:\tlearn: 26.8392173\ttotal: 324ms\tremaining: 15.9s\n",
            "2:\tlearn: 26.0741462\ttotal: 457ms\tremaining: 14.8s\n",
            "3:\tlearn: 25.4185873\ttotal: 586ms\tremaining: 14.1s\n",
            "4:\tlearn: 24.8271865\ttotal: 717ms\tremaining: 13.6s\n",
            "5:\tlearn: 24.3606582\ttotal: 846ms\tremaining: 13.2s\n",
            "6:\tlearn: 23.9391635\ttotal: 986ms\tremaining: 13.1s\n",
            "7:\tlearn: 23.5072310\ttotal: 1.11s\tremaining: 12.8s\n",
            "8:\tlearn: 23.1913398\ttotal: 1.25s\tremaining: 12.6s\n",
            "9:\tlearn: 22.8271891\ttotal: 1.38s\tremaining: 12.4s\n",
            "10:\tlearn: 22.5442455\ttotal: 1.51s\tremaining: 12.2s\n",
            "11:\tlearn: 22.2258953\ttotal: 1.64s\tremaining: 12s\n",
            "12:\tlearn: 21.9250814\ttotal: 1.77s\tremaining: 11.8s\n",
            "13:\tlearn: 21.6471729\ttotal: 1.91s\tremaining: 11.7s\n",
            "14:\tlearn: 21.4372313\ttotal: 2.04s\tremaining: 11.6s\n",
            "15:\tlearn: 21.2282273\ttotal: 2.18s\tremaining: 11.4s\n",
            "16:\tlearn: 20.9860239\ttotal: 2.32s\tremaining: 11.3s\n",
            "17:\tlearn: 20.7894767\ttotal: 2.45s\tremaining: 11.2s\n",
            "18:\tlearn: 20.4347028\ttotal: 2.59s\tremaining: 11s\n",
            "19:\tlearn: 20.2747815\ttotal: 2.71s\tremaining: 10.9s\n",
            "20:\tlearn: 20.0742757\ttotal: 2.85s\tremaining: 10.7s\n",
            "21:\tlearn: 19.8883652\ttotal: 2.99s\tremaining: 10.6s\n",
            "22:\tlearn: 19.7519220\ttotal: 3.12s\tremaining: 10.5s\n",
            "23:\tlearn: 19.5901900\ttotal: 3.26s\tremaining: 10.3s\n",
            "24:\tlearn: 19.4650732\ttotal: 3.39s\tremaining: 10.2s\n",
            "25:\tlearn: 19.0616070\ttotal: 3.52s\tremaining: 10s\n",
            "26:\tlearn: 18.9247747\ttotal: 3.66s\tremaining: 9.89s\n",
            "27:\tlearn: 18.8136123\ttotal: 3.79s\tremaining: 9.74s\n",
            "28:\tlearn: 18.5007282\ttotal: 3.92s\tremaining: 9.6s\n",
            "29:\tlearn: 18.2964838\ttotal: 4.06s\tremaining: 9.47s\n",
            "30:\tlearn: 18.2047570\ttotal: 4.21s\tremaining: 9.36s\n",
            "31:\tlearn: 17.9874748\ttotal: 4.34s\tremaining: 9.22s\n",
            "32:\tlearn: 17.7606326\ttotal: 4.47s\tremaining: 9.08s\n",
            "33:\tlearn: 17.6441618\ttotal: 4.6s\tremaining: 8.94s\n",
            "34:\tlearn: 17.4643156\ttotal: 4.74s\tremaining: 8.8s\n",
            "35:\tlearn: 17.3875079\ttotal: 4.87s\tremaining: 8.65s\n",
            "36:\tlearn: 17.2542483\ttotal: 5.01s\tremaining: 8.52s\n",
            "37:\tlearn: 17.1740006\ttotal: 5.14s\tremaining: 8.38s\n",
            "38:\tlearn: 17.0988704\ttotal: 5.27s\tremaining: 8.24s\n",
            "39:\tlearn: 16.8437663\ttotal: 5.4s\tremaining: 8.1s\n",
            "40:\tlearn: 16.7772840\ttotal: 5.53s\tremaining: 7.96s\n",
            "41:\tlearn: 16.6810432\ttotal: 5.66s\tremaining: 7.82s\n",
            "42:\tlearn: 16.5416700\ttotal: 5.8s\tremaining: 7.68s\n",
            "43:\tlearn: 16.4772420\ttotal: 5.92s\tremaining: 7.54s\n",
            "44:\tlearn: 16.4093421\ttotal: 6.06s\tremaining: 7.41s\n",
            "45:\tlearn: 16.3408249\ttotal: 6.2s\tremaining: 7.28s\n",
            "46:\tlearn: 16.2867503\ttotal: 6.33s\tremaining: 7.14s\n",
            "47:\tlearn: 16.1359982\ttotal: 6.47s\tremaining: 7.01s\n",
            "48:\tlearn: 16.0480089\ttotal: 6.6s\tremaining: 6.87s\n",
            "49:\tlearn: 15.9709609\ttotal: 6.73s\tremaining: 6.73s\n",
            "50:\tlearn: 15.7088362\ttotal: 6.87s\tremaining: 6.6s\n",
            "51:\tlearn: 15.6494718\ttotal: 7.01s\tremaining: 6.47s\n",
            "52:\tlearn: 15.6004912\ttotal: 7.14s\tremaining: 6.33s\n",
            "53:\tlearn: 15.5616918\ttotal: 7.27s\tremaining: 6.19s\n",
            "54:\tlearn: 15.4976892\ttotal: 7.41s\tremaining: 6.06s\n",
            "55:\tlearn: 15.4590232\ttotal: 7.54s\tremaining: 5.92s\n",
            "56:\tlearn: 15.3740179\ttotal: 7.68s\tremaining: 5.79s\n",
            "57:\tlearn: 15.1514308\ttotal: 7.81s\tremaining: 5.65s\n",
            "58:\tlearn: 15.1048479\ttotal: 7.94s\tremaining: 5.52s\n",
            "59:\tlearn: 14.9206957\ttotal: 8.07s\tremaining: 5.38s\n",
            "60:\tlearn: 14.8549477\ttotal: 8.21s\tremaining: 5.25s\n",
            "61:\tlearn: 14.6853016\ttotal: 8.34s\tremaining: 5.11s\n",
            "62:\tlearn: 14.6390434\ttotal: 8.48s\tremaining: 4.98s\n",
            "63:\tlearn: 14.5621665\ttotal: 8.61s\tremaining: 4.84s\n",
            "64:\tlearn: 14.5054332\ttotal: 8.74s\tremaining: 4.71s\n",
            "65:\tlearn: 14.4609509\ttotal: 8.87s\tremaining: 4.57s\n",
            "66:\tlearn: 14.4017158\ttotal: 9.02s\tremaining: 4.44s\n",
            "67:\tlearn: 14.2351507\ttotal: 9.14s\tremaining: 4.3s\n",
            "68:\tlearn: 14.2034287\ttotal: 9.28s\tremaining: 4.17s\n",
            "69:\tlearn: 14.1561858\ttotal: 9.41s\tremaining: 4.04s\n",
            "70:\tlearn: 14.1191204\ttotal: 9.56s\tremaining: 3.9s\n",
            "71:\tlearn: 14.0882503\ttotal: 9.69s\tremaining: 3.77s\n",
            "72:\tlearn: 14.0558957\ttotal: 9.82s\tremaining: 3.63s\n",
            "73:\tlearn: 13.9177089\ttotal: 9.95s\tremaining: 3.5s\n",
            "74:\tlearn: 13.8876165\ttotal: 10.1s\tremaining: 3.37s\n",
            "75:\tlearn: 13.8125366\ttotal: 10.2s\tremaining: 3.23s\n",
            "76:\tlearn: 13.7828586\ttotal: 10.4s\tremaining: 3.09s\n",
            "77:\tlearn: 13.7586538\ttotal: 10.5s\tremaining: 2.96s\n",
            "78:\tlearn: 13.7213052\ttotal: 10.6s\tremaining: 2.82s\n",
            "79:\tlearn: 13.6293441\ttotal: 10.7s\tremaining: 2.69s\n",
            "80:\tlearn: 13.5980247\ttotal: 10.9s\tremaining: 2.55s\n",
            "81:\tlearn: 13.5720677\ttotal: 11s\tremaining: 2.42s\n",
            "82:\tlearn: 13.5262272\ttotal: 11.2s\tremaining: 2.29s\n",
            "83:\tlearn: 13.4856185\ttotal: 11.3s\tremaining: 2.15s\n",
            "84:\tlearn: 13.3995440\ttotal: 11.4s\tremaining: 2.02s\n",
            "85:\tlearn: 13.3724692\ttotal: 11.6s\tremaining: 1.88s\n",
            "86:\tlearn: 13.2673156\ttotal: 11.7s\tremaining: 1.75s\n",
            "87:\tlearn: 13.2478256\ttotal: 11.8s\tremaining: 1.61s\n",
            "88:\tlearn: 13.2277038\ttotal: 12s\tremaining: 1.48s\n",
            "89:\tlearn: 13.1510654\ttotal: 12.1s\tremaining: 1.34s\n",
            "90:\tlearn: 13.1313336\ttotal: 12.2s\tremaining: 1.21s\n",
            "91:\tlearn: 13.0584631\ttotal: 12.4s\tremaining: 1.07s\n",
            "92:\tlearn: 13.0217286\ttotal: 12.5s\tremaining: 941ms\n",
            "93:\tlearn: 12.9911719\ttotal: 12.6s\tremaining: 807ms\n",
            "94:\tlearn: 12.9324821\ttotal: 12.8s\tremaining: 672ms\n",
            "95:\tlearn: 12.8616817\ttotal: 12.9s\tremaining: 538ms\n",
            "96:\tlearn: 12.8412270\ttotal: 13s\tremaining: 403ms\n",
            "97:\tlearn: 12.8251974\ttotal: 13.2s\tremaining: 269ms\n",
            "98:\tlearn: 12.7972425\ttotal: 13.3s\tremaining: 134ms\n",
            "99:\tlearn: 12.7713734\ttotal: 13.4s\tremaining: 0us\n",
            "\n",
            "========================================================\n",
            " Results from Grid Search \n",
            "========================================================\n",
            "\n",
            " The best estimator across ALL searched params:\n",
            " <catboost.core.CatBoostRegressor object at 0x7f7e81294c50>\n",
            "\n",
            " The best score across ALL searched params:\n",
            " 0.8046573299554507\n",
            "\n",
            " The best parameters across ALL searched params:\n",
            " {'depth': 10, 'iterations': 100, 'learning_rate': 0.1}\n",
            "\n",
            " ========================================================\n"
          ],
          "name": "stdout"
        }
      ]
    },
    {
      "cell_type": "code",
      "metadata": {
        "colab": {
          "base_uri": "https://localhost:8080/"
        },
        "id": "4ivF8wStJZuw",
        "outputId": "fb54c950-6787-4138-bfaa-6a52f8a87df3"
      },
      "source": [
        "Xt = test.iloc[:,1:]\r\n",
        "Xt['date']=Xt['date'].map(dt.datetime.toordinal)\r\n",
        "Xt = sc.fit_transform(Xt)\r\n",
        "Xt"
      ],
      "execution_count": null,
      "outputs": [
        {
          "output_type": "execute_result",
          "data": {
            "text/plain": [
              "array([[-1.71291154, -1.5666989 , -1.69774938],\n",
              "       [-1.67441914, -1.5666989 , -1.69774938],\n",
              "       [-1.63592675, -1.5666989 , -1.69774938],\n",
              "       ...,\n",
              "       [ 1.63592675,  1.5666989 ,  1.69774938],\n",
              "       [ 1.67441914,  1.5666989 ,  1.69774938],\n",
              "       [ 1.71291154,  1.5666989 ,  1.69774938]])"
            ]
          },
          "metadata": {
            "tags": []
          },
          "execution_count": 32
        }
      ]
    },
    {
      "cell_type": "code",
      "metadata": {
        "colab": {
          "base_uri": "https://localhost:8080/"
        },
        "id": "m94iumTGKakU",
        "outputId": "17386655-5b06-4e6f-8698-ba549b2c96bc"
      },
      "source": [
        "model = CatBoostRegressor(depth=10, iterations=100, learning_rate= 0.1)\r\n",
        "model.fit(X_train, y_train) \r\n",
        "predict = model.predict(X_test)\r\n"
      ],
      "execution_count": null,
      "outputs": [
        {
          "output_type": "stream",
          "text": [
            "0:\tlearn: 27.7480866\ttotal: 146ms\tremaining: 14.5s\n",
            "1:\tlearn: 26.8392173\ttotal: 277ms\tremaining: 13.6s\n",
            "2:\tlearn: 26.0741462\ttotal: 410ms\tremaining: 13.2s\n",
            "3:\tlearn: 25.4185873\ttotal: 539ms\tremaining: 12.9s\n",
            "4:\tlearn: 24.8271865\ttotal: 673ms\tremaining: 12.8s\n",
            "5:\tlearn: 24.3606582\ttotal: 803ms\tremaining: 12.6s\n",
            "6:\tlearn: 23.9391635\ttotal: 949ms\tremaining: 12.6s\n",
            "7:\tlearn: 23.5072310\ttotal: 1.09s\tremaining: 12.5s\n",
            "8:\tlearn: 23.1913398\ttotal: 1.23s\tremaining: 12.4s\n",
            "9:\tlearn: 22.8271891\ttotal: 1.36s\tremaining: 12.3s\n",
            "10:\tlearn: 22.5442455\ttotal: 1.5s\tremaining: 12.1s\n",
            "11:\tlearn: 22.2258953\ttotal: 1.63s\tremaining: 11.9s\n",
            "12:\tlearn: 21.9250814\ttotal: 1.76s\tremaining: 11.8s\n",
            "13:\tlearn: 21.6471729\ttotal: 1.89s\tremaining: 11.6s\n",
            "14:\tlearn: 21.4372313\ttotal: 2.03s\tremaining: 11.5s\n",
            "15:\tlearn: 21.2282273\ttotal: 2.17s\tremaining: 11.4s\n",
            "16:\tlearn: 20.9860239\ttotal: 2.3s\tremaining: 11.2s\n",
            "17:\tlearn: 20.7894767\ttotal: 2.43s\tremaining: 11.1s\n",
            "18:\tlearn: 20.4347028\ttotal: 2.57s\tremaining: 10.9s\n",
            "19:\tlearn: 20.2747815\ttotal: 2.7s\tremaining: 10.8s\n",
            "20:\tlearn: 20.0742757\ttotal: 2.83s\tremaining: 10.7s\n",
            "21:\tlearn: 19.8883652\ttotal: 2.96s\tremaining: 10.5s\n",
            "22:\tlearn: 19.7519220\ttotal: 3.1s\tremaining: 10.4s\n",
            "23:\tlearn: 19.5901900\ttotal: 3.24s\tremaining: 10.3s\n",
            "24:\tlearn: 19.4650732\ttotal: 3.38s\tremaining: 10.1s\n",
            "25:\tlearn: 19.0616070\ttotal: 3.51s\tremaining: 9.98s\n",
            "26:\tlearn: 18.9247747\ttotal: 3.64s\tremaining: 9.84s\n",
            "27:\tlearn: 18.8136123\ttotal: 3.77s\tremaining: 9.7s\n",
            "28:\tlearn: 18.5007282\ttotal: 3.91s\tremaining: 9.56s\n",
            "29:\tlearn: 18.2964838\ttotal: 4.04s\tremaining: 9.44s\n",
            "30:\tlearn: 18.2047570\ttotal: 4.19s\tremaining: 9.32s\n",
            "31:\tlearn: 17.9874748\ttotal: 4.32s\tremaining: 9.18s\n",
            "32:\tlearn: 17.7606326\ttotal: 4.45s\tremaining: 9.04s\n",
            "33:\tlearn: 17.6441618\ttotal: 4.58s\tremaining: 8.9s\n",
            "34:\tlearn: 17.4643156\ttotal: 4.72s\tremaining: 8.76s\n",
            "35:\tlearn: 17.3875079\ttotal: 4.85s\tremaining: 8.63s\n",
            "36:\tlearn: 17.2542483\ttotal: 4.98s\tremaining: 8.48s\n",
            "37:\tlearn: 17.1740006\ttotal: 5.11s\tremaining: 8.34s\n",
            "38:\tlearn: 17.0988704\ttotal: 5.25s\tremaining: 8.22s\n",
            "39:\tlearn: 16.8437663\ttotal: 5.38s\tremaining: 8.08s\n",
            "40:\tlearn: 16.7772840\ttotal: 5.52s\tremaining: 7.94s\n",
            "41:\tlearn: 16.6810432\ttotal: 5.65s\tremaining: 7.8s\n",
            "42:\tlearn: 16.5416700\ttotal: 5.79s\tremaining: 7.68s\n",
            "43:\tlearn: 16.4772420\ttotal: 5.93s\tremaining: 7.54s\n",
            "44:\tlearn: 16.4093421\ttotal: 6.06s\tremaining: 7.41s\n",
            "45:\tlearn: 16.3408249\ttotal: 6.21s\tremaining: 7.29s\n",
            "46:\tlearn: 16.2867503\ttotal: 6.34s\tremaining: 7.15s\n",
            "47:\tlearn: 16.1359982\ttotal: 6.47s\tremaining: 7.01s\n",
            "48:\tlearn: 16.0480089\ttotal: 6.61s\tremaining: 6.88s\n",
            "49:\tlearn: 15.9709609\ttotal: 6.75s\tremaining: 6.75s\n",
            "50:\tlearn: 15.7088362\ttotal: 6.88s\tremaining: 6.61s\n",
            "51:\tlearn: 15.6494718\ttotal: 7.01s\tremaining: 6.47s\n",
            "52:\tlearn: 15.6004912\ttotal: 7.14s\tremaining: 6.33s\n",
            "53:\tlearn: 15.5616918\ttotal: 7.28s\tremaining: 6.2s\n",
            "54:\tlearn: 15.4976892\ttotal: 7.42s\tremaining: 6.07s\n",
            "55:\tlearn: 15.4590232\ttotal: 7.54s\tremaining: 5.93s\n",
            "56:\tlearn: 15.3740179\ttotal: 7.69s\tremaining: 5.8s\n",
            "57:\tlearn: 15.1514308\ttotal: 7.82s\tremaining: 5.66s\n",
            "58:\tlearn: 15.1048479\ttotal: 7.95s\tremaining: 5.53s\n",
            "59:\tlearn: 14.9206957\ttotal: 8.09s\tremaining: 5.39s\n",
            "60:\tlearn: 14.8549477\ttotal: 8.24s\tremaining: 5.27s\n",
            "61:\tlearn: 14.6853016\ttotal: 8.37s\tremaining: 5.13s\n",
            "62:\tlearn: 14.6390434\ttotal: 8.51s\tremaining: 5s\n",
            "63:\tlearn: 14.5621665\ttotal: 8.64s\tremaining: 4.86s\n",
            "64:\tlearn: 14.5054332\ttotal: 8.77s\tremaining: 4.72s\n",
            "65:\tlearn: 14.4609509\ttotal: 8.91s\tremaining: 4.59s\n",
            "66:\tlearn: 14.4017158\ttotal: 9.04s\tremaining: 4.45s\n",
            "67:\tlearn: 14.2351507\ttotal: 9.18s\tremaining: 4.32s\n",
            "68:\tlearn: 14.2034287\ttotal: 9.32s\tremaining: 4.19s\n",
            "69:\tlearn: 14.1561858\ttotal: 9.46s\tremaining: 4.05s\n",
            "70:\tlearn: 14.1191204\ttotal: 9.6s\tremaining: 3.92s\n",
            "71:\tlearn: 14.0882503\ttotal: 9.73s\tremaining: 3.79s\n",
            "72:\tlearn: 14.0558957\ttotal: 9.88s\tremaining: 3.65s\n",
            "73:\tlearn: 13.9177089\ttotal: 10s\tremaining: 3.52s\n",
            "74:\tlearn: 13.8876165\ttotal: 10.1s\tremaining: 3.38s\n",
            "75:\tlearn: 13.8125366\ttotal: 10.3s\tremaining: 3.25s\n",
            "76:\tlearn: 13.7828586\ttotal: 10.4s\tremaining: 3.11s\n",
            "77:\tlearn: 13.7586538\ttotal: 10.6s\tremaining: 2.98s\n",
            "78:\tlearn: 13.7213052\ttotal: 10.7s\tremaining: 2.84s\n",
            "79:\tlearn: 13.6293441\ttotal: 10.8s\tremaining: 2.7s\n",
            "80:\tlearn: 13.5980247\ttotal: 11s\tremaining: 2.57s\n",
            "81:\tlearn: 13.5720677\ttotal: 11.1s\tremaining: 2.43s\n",
            "82:\tlearn: 13.5262272\ttotal: 11.2s\tremaining: 2.3s\n",
            "83:\tlearn: 13.4856185\ttotal: 11.4s\tremaining: 2.16s\n",
            "84:\tlearn: 13.3995440\ttotal: 11.5s\tremaining: 2.03s\n",
            "85:\tlearn: 13.3724692\ttotal: 11.6s\tremaining: 1.9s\n",
            "86:\tlearn: 13.2673156\ttotal: 11.8s\tremaining: 1.76s\n",
            "87:\tlearn: 13.2478256\ttotal: 11.9s\tremaining: 1.62s\n",
            "88:\tlearn: 13.2277038\ttotal: 12s\tremaining: 1.49s\n",
            "89:\tlearn: 13.1510654\ttotal: 12.2s\tremaining: 1.35s\n",
            "90:\tlearn: 13.1313336\ttotal: 12.3s\tremaining: 1.22s\n",
            "91:\tlearn: 13.0584631\ttotal: 12.4s\tremaining: 1.08s\n",
            "92:\tlearn: 13.0217286\ttotal: 12.6s\tremaining: 947ms\n",
            "93:\tlearn: 12.9911719\ttotal: 12.7s\tremaining: 812ms\n",
            "94:\tlearn: 12.9324821\ttotal: 12.8s\tremaining: 676ms\n",
            "95:\tlearn: 12.8616817\ttotal: 13s\tremaining: 541ms\n",
            "96:\tlearn: 12.8412270\ttotal: 13.1s\tremaining: 406ms\n",
            "97:\tlearn: 12.8251974\ttotal: 13.2s\tremaining: 270ms\n",
            "98:\tlearn: 12.7972425\ttotal: 13.4s\tremaining: 135ms\n",
            "99:\tlearn: 12.7713734\ttotal: 13.5s\tremaining: 0us\n"
          ],
          "name": "stdout"
        }
      ]
    },
    {
      "cell_type": "code",
      "metadata": {
        "colab": {
          "base_uri": "https://localhost:8080/"
        },
        "id": "iby7ZZu_L7TU",
        "outputId": "918fb60c-7815-43fc-cf58-4be47e0d12ab"
      },
      "source": [
        "print(mean_absolute_error(y_test, predict)) #   8.185439149268307   9.554859610978825\r\n",
        "print(mean_squared_error(y_test, predict))  #   116.65649669680364  163.13236748874866"
      ],
      "execution_count": null,
      "outputs": [
        {
          "output_type": "stream",
          "text": [
            "9.554859610978825\n",
            "163.13236748874866\n"
          ],
          "name": "stdout"
        }
      ]
    },
    {
      "cell_type": "code",
      "metadata": {
        "id": "OHB3UEAV2-Po"
      },
      "source": [
        "test_pre = model.predict(Xt)"
      ],
      "execution_count": null,
      "outputs": []
    },
    {
      "cell_type": "code",
      "metadata": {
        "colab": {
          "base_uri": "https://localhost:8080/"
        },
        "id": "GHTkXTHP5gri",
        "outputId": "b213ff04-b045-45cc-8a6a-41d1f6874abc"
      },
      "source": [
        "test_pre"
      ],
      "execution_count": null,
      "outputs": [
        {
          "output_type": "execute_result",
          "data": {
            "text/plain": [
              "array([ 8.37538028,  8.37538028,  8.37538028, ..., 46.24445273,\n",
              "       46.24445273, 46.24445273])"
            ]
          },
          "metadata": {
            "tags": []
          },
          "execution_count": 46
        }
      ]
    },
    {
      "cell_type": "code",
      "metadata": {
        "id": "njpX1biT5jLK"
      },
      "source": [
        "test['sales_p'] = test_pre"
      ],
      "execution_count": null,
      "outputs": []
    },
    {
      "cell_type": "code",
      "metadata": {
        "colab": {
          "base_uri": "https://localhost:8080/",
          "height": 343
        },
        "id": "fV5-FP2D5y4L",
        "outputId": "13b7e51c-3632-46d0-dc75-312a74224a5e"
      },
      "source": [
        "test['sales_p'].round(decimals=0)\r\n",
        "test.tail(10)"
      ],
      "execution_count": null,
      "outputs": [
        {
          "output_type": "execute_result",
          "data": {
            "text/html": [
              "<div>\n",
              "<style scoped>\n",
              "    .dataframe tbody tr th:only-of-type {\n",
              "        vertical-align: middle;\n",
              "    }\n",
              "\n",
              "    .dataframe tbody tr th {\n",
              "        vertical-align: top;\n",
              "    }\n",
              "\n",
              "    .dataframe thead th {\n",
              "        text-align: right;\n",
              "    }\n",
              "</style>\n",
              "<table border=\"1\" class=\"dataframe\">\n",
              "  <thead>\n",
              "    <tr style=\"text-align: right;\">\n",
              "      <th></th>\n",
              "      <th>id</th>\n",
              "      <th>date</th>\n",
              "      <th>store</th>\n",
              "      <th>item</th>\n",
              "      <th>sales_p</th>\n",
              "    </tr>\n",
              "  </thead>\n",
              "  <tbody>\n",
              "    <tr>\n",
              "      <th>44990</th>\n",
              "      <td>44990</td>\n",
              "      <td>2018-03-22</td>\n",
              "      <td>10</td>\n",
              "      <td>50</td>\n",
              "      <td>46.244453</td>\n",
              "    </tr>\n",
              "    <tr>\n",
              "      <th>44991</th>\n",
              "      <td>44991</td>\n",
              "      <td>2018-03-23</td>\n",
              "      <td>10</td>\n",
              "      <td>50</td>\n",
              "      <td>46.244453</td>\n",
              "    </tr>\n",
              "    <tr>\n",
              "      <th>44992</th>\n",
              "      <td>44992</td>\n",
              "      <td>2018-03-24</td>\n",
              "      <td>10</td>\n",
              "      <td>50</td>\n",
              "      <td>46.244453</td>\n",
              "    </tr>\n",
              "    <tr>\n",
              "      <th>44993</th>\n",
              "      <td>44993</td>\n",
              "      <td>2018-03-25</td>\n",
              "      <td>10</td>\n",
              "      <td>50</td>\n",
              "      <td>46.244453</td>\n",
              "    </tr>\n",
              "    <tr>\n",
              "      <th>44994</th>\n",
              "      <td>44994</td>\n",
              "      <td>2018-03-26</td>\n",
              "      <td>10</td>\n",
              "      <td>50</td>\n",
              "      <td>46.244453</td>\n",
              "    </tr>\n",
              "    <tr>\n",
              "      <th>44995</th>\n",
              "      <td>44995</td>\n",
              "      <td>2018-03-27</td>\n",
              "      <td>10</td>\n",
              "      <td>50</td>\n",
              "      <td>46.244453</td>\n",
              "    </tr>\n",
              "    <tr>\n",
              "      <th>44996</th>\n",
              "      <td>44996</td>\n",
              "      <td>2018-03-28</td>\n",
              "      <td>10</td>\n",
              "      <td>50</td>\n",
              "      <td>46.244453</td>\n",
              "    </tr>\n",
              "    <tr>\n",
              "      <th>44997</th>\n",
              "      <td>44997</td>\n",
              "      <td>2018-03-29</td>\n",
              "      <td>10</td>\n",
              "      <td>50</td>\n",
              "      <td>46.244453</td>\n",
              "    </tr>\n",
              "    <tr>\n",
              "      <th>44998</th>\n",
              "      <td>44998</td>\n",
              "      <td>2018-03-30</td>\n",
              "      <td>10</td>\n",
              "      <td>50</td>\n",
              "      <td>46.244453</td>\n",
              "    </tr>\n",
              "    <tr>\n",
              "      <th>44999</th>\n",
              "      <td>44999</td>\n",
              "      <td>2018-03-31</td>\n",
              "      <td>10</td>\n",
              "      <td>50</td>\n",
              "      <td>46.244453</td>\n",
              "    </tr>\n",
              "  </tbody>\n",
              "</table>\n",
              "</div>"
            ],
            "text/plain": [
              "          id       date  store  item    sales_p\n",
              "44990  44990 2018-03-22     10    50  46.244453\n",
              "44991  44991 2018-03-23     10    50  46.244453\n",
              "44992  44992 2018-03-24     10    50  46.244453\n",
              "44993  44993 2018-03-25     10    50  46.244453\n",
              "44994  44994 2018-03-26     10    50  46.244453\n",
              "44995  44995 2018-03-27     10    50  46.244453\n",
              "44996  44996 2018-03-28     10    50  46.244453\n",
              "44997  44997 2018-03-29     10    50  46.244453\n",
              "44998  44998 2018-03-30     10    50  46.244453\n",
              "44999  44999 2018-03-31     10    50  46.244453"
            ]
          },
          "metadata": {
            "tags": []
          },
          "execution_count": 59
        }
      ]
    },
    {
      "cell_type": "code",
      "metadata": {
        "id": "yvDDD_Kw50BU"
      },
      "source": [
        ""
      ],
      "execution_count": null,
      "outputs": []
    }
  ]
}